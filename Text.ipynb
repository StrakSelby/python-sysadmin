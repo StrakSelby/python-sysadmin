{
 "cells": [
  {
   "cell_type": "markdown",
   "metadata": {},
   "source": [
    "Basic regular expression usage"
   ]
  },
  {
   "cell_type": "code",
   "execution_count": 1,
   "metadata": {},
   "outputs": [
    {
     "name": "stdout",
     "output_type": "stream",
     "text": [
      "MATCH-> word\n",
      "MATCH-> curly bracket\n",
      "MATCH-> example\n",
      "MATCH-> regular expressions\n"
     ]
    }
   ],
   "source": [
    "import re\n",
    "\n",
    "re_string = \"{{(.*?)}}\"\n",
    "\n",
    "some_string = \"this is a string with {{word}} embedded in \\\n",
    "    {{curly bracket}} to show an {{example}} of {{regular expressions}}\"\n",
    "    \n",
    "for match in re.findall(re_string, some_string):\n",
    "    print (\"MATCH->\", match)"
   ]
  }
 ],
 "metadata": {
  "kernelspec": {
   "display_name": "Python 3",
   "language": "python",
   "name": "python3"
  },
  "language_info": {
   "codemirror_mode": {
    "name": "ipython",
    "version": 3
   },
   "file_extension": ".py",
   "mimetype": "text/x-python",
   "name": "python",
   "nbconvert_exporter": "python",
   "pygments_lexer": "ipython3",
   "version": "3.13.2"
  }
 },
 "nbformat": 4,
 "nbformat_minor": 2
}
